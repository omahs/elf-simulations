{
 "cells": [
  {
   "attachments": {},
   "cell_type": "markdown",
   "metadata": {},
   "source": [
    "## Hyperdrive Exploration Simulation\n",
    "This notebook is to explore the base functionality of Hyperdrive\n",
    "\n",
    "For details on the simulation framework, please see our <a href=\"https://elfpy.element.fi/\"> simulation documentation</a>"
   ]
  },
  {
   "attachments": {},
   "cell_type": "markdown",
   "metadata": {},
   "source": [
    "### Install repo requirements & import packages"
   ]
  },
  {
   "cell_type": "code",
   "execution_count": 6,
   "metadata": {},
   "outputs": [
    {
     "name": "stdout",
     "output_type": "stream",
     "text": [
      "running locally & trusting that you have the dependencies installed\n"
     ]
    }
   ],
   "source": [
    "# test: skip-cell\n",
    "try: # install dependencies only if running on google colab\n",
    "    import google.colab # check if running in colab\n",
    "    !pip install -r https://raw.githubusercontent.com/element-fi/elf-simulations/main/requirements-3.8.txt \n",
    "    !pip install git+https://github.com/element-fi/elf-simulations.git\n",
    "except:\n",
    "    print(\"running locally & trusting that you have the dependencies installed\")"
   ]
  },
  {
   "cell_type": "code",
   "execution_count": 7,
   "metadata": {},
   "outputs": [],
   "source": [
    "from __future__ import annotations\n",
    "\n",
    "import numpy as np\n",
    "from numpy.random._generator import Generator\n",
    "import matplotlib.ticker as ticker\n",
    "\n",
    "from elfpy import WEI\n",
    "from elfpy.agents.agent import Agent\n",
    "from elfpy.markets.hyperdrive import Market, MarketAction, MarketActionType\n",
    "from elfpy.utils import sim_utils\n",
    "import elfpy.utils.outputs as output_utils\n",
    "import elfpy.utils.post_processing as post_processing\n",
    "from elfpy.simulators import Config"
   ]
  },
  {
   "attachments": {},
   "cell_type": "markdown",
   "metadata": {},
   "source": [
    "### Setup experiment parameters"
   ]
  },
  {
   "cell_type": "code",
   "execution_count": 8,
   "metadata": {},
   "outputs": [],
   "source": [
    "config = Config()\n",
    "\n",
    "# General config parameters\n",
    "config.title = \"Hyperdrive Core Features\"\n",
    "config.pricing_model_name = \"Hyperdrive\" # can be yieldspace or hyperdrive\n",
    "\n",
    "config.num_trading_days = 20 # Number of simulated trading days\n",
    "config.num_blocks_per_day = 5 # Blocks in a given day (7200 means ~12 sec per block)\n",
    "config.num_position_days = 10 # How long a token reaches maturity\n",
    "\n",
    "config.trade_fee_percent = 0.05 # fee percent collected on trades\n",
    "config.redemption_fee_percent = 0.05 # fee collected on the spread of the flat portion\n",
    "\n",
    "config.target_fixed_apr = 0.01 # target fixed APR of the initial market after the LP\n",
    "config.target_liquidity = 500_000_000 # target total liquidity of the initial market, before any trades\n",
    "\n",
    "config.log_level = output_utils.text_to_log_level(\"INFO\") # Logging level, should be in [\"DEBUG\", \"INFO\", \"WARNING\"]\n",
    "config.log_filename = \"./hyperdrive_exploration.log\" # Output filename for logging\n",
    "\n",
    "config.shuffle_users = True\n",
    "\n",
    "# Notebook specific parameters\n",
    "# TBD\n",
    "\n",
    "# Define the vault apr\n",
    "vault_apr = np.array([0.01] * config.num_trading_days)\n",
    "\n",
    "#vault_apr[config.num_trading_days//2:] = 0.05\n",
    "config.variable_apr = vault_apr.tolist()\n",
    "config.freeze()\n",
    "\n",
    "fig_size = (5, 5)"
   ]
  },
  {
   "attachments": {},
   "cell_type": "markdown",
   "metadata": {},
   "source": [
    "### Setup agents"
   ]
  },
  {
   "cell_type": "code",
   "execution_count": 9,
   "metadata": {},
   "outputs": [],
   "source": [
    "class ShortAgent(Agent):\n",
    "    \"\"\"Opens Basic Short\"\"\"\n",
    "    def action(self, market: Market):\n",
    "        \"\"\"implement user strategy\"\"\"\n",
    "        return []"
   ]
  },
  {
   "cell_type": "code",
   "execution_count": 10,
   "metadata": {},
   "outputs": [],
   "source": [
    "class LongAgent(Agent):\n",
    "    \"\"\"Opens Basic Long\"\"\"\n",
    "    def action(self, market: Market):\n",
    "        \"\"\"implement user strategy\"\"\"\n",
    "        return []"
   ]
  },
  {
   "cell_type": "code",
   "execution_count": 11,
   "metadata": {},
   "outputs": [],
   "source": [
    "class LPAgent(Agent):\n",
    "    \"\"\"Adds a large LP\"\"\"\n",
    "    def action(self, market: Market):\n",
    "        \"\"\"implement user strategy\"\"\"\n",
    "        if self.wallet.lp_tokens > 0: # has already opened the lp\n",
    "            action_list = []\n",
    "        else:\n",
    "            action_list = [\n",
    "                self.create_agent_action(\n",
    "                    action_type=MarketActionType.ADD_LIQUIDITY, trade_amount=self.budget\n",
    "                ),\n",
    "            ]\n",
    "        return action_list"
   ]
  },
  {
   "attachments": {},
   "cell_type": "markdown",
   "metadata": {},
   "source": [
    "### Instantiate Example Agents"
   ]
  },
  {
   "cell_type": "code",
   "execution_count": 14,
   "metadata": {},
   "outputs": [],
   "source": [
    "\n",
    "def get_example_agents(rng: Generator, num_shorts: int, num_longs: int, existing_agents: int = 0) -> list[Agent]:\n",
    "    \"\"\"Instantiate a set of custom agents\"\"\"\n",
    "    agents = []\n",
    "    for address in range(existing_agents, existing_agents + num_shorts):\n",
    "        agent = ShortAgent(\n",
    "            wallet_address=address,\n",
    "            budget=5_000,\n",
    "        )\n",
    "        agent.log_status_report()\n",
    "        agents += [agent]\n",
    "    existing_agents += len(agents)\n",
    "    return agents"
   ]
  },
  {
   "attachments": {},
   "cell_type": "markdown",
   "metadata": {},
   "source": [
    "### Setup simulation objects"
   ]
  },
  {
   "cell_type": "code",
   "execution_count": 15,
   "metadata": {},
   "outputs": [],
   "source": [
    "# define root logging parameters\n",
    "output_utils.setup_logging(log_filename=config.log_filename, log_level=config.log_level)\n",
    "\n",
    "# get an instantiated simulator object\n",
    "simulator = sim_utils.get_simulator(config)"
   ]
  },
  {
   "attachments": {},
   "cell_type": "markdown",
   "metadata": {},
   "source": [
    "### Run the simulation"
   ]
  },
  {
   "cell_type": "code",
   "execution_count": 16,
   "metadata": {},
   "outputs": [
    {
     "name": "stdout",
     "output_type": "stream",
     "text": [
      "Simulator has 2 agents\n"
     ]
    }
   ],
   "source": [
    "# add the random agents\n",
    "trading_agents = get_example_agents(\n",
    "    rng=simulator.rng,\n",
    "    num_shorts=1,\n",
    "    num_longs=0,\n",
    "    existing_agents=len(simulator.agents)\n",
    ")\n",
    "simulator.add_agents(trading_agents)\n",
    "print(f\"Simulator has {len(simulator.agents)} agents\")\n",
    "\n",
    "# run the simulation\n",
    "simulator.run_simulation()"
   ]
  },
  {
   "cell_type": "code",
   "execution_count": 20,
   "metadata": {},
   "outputs": [
    {
     "name": "stdout",
     "output_type": "stream",
     "text": [
      "{'position_duration': StretchedTime(days=10, time_stretch=110.93438508425959, normalizing_constant=10), 'pricing_model': <elfpy.pricing_models.hyperdrive.HyperdrivePricingModel object at 0x1039f7dc0>, 'market_state': MarketState(lp_total_supply=1.0, share_reserves=1.0000000596046448, bond_reserves=15427636.348414399, base_buffer=0, bond_buffer=0, variable_apr=0.01, share_price=1.0005206763194228, init_share_price=1.0, trade_fee_percent=0.05, redemption_fee_percent=0.05), 'time': 0.05424657534246579}\n",
      "   index  model_name  run_number  day  block_number  daily_block_number  \\\n",
      "0      0  Hyperdrive           0    0             0                   0   \n",
      "1      1  Hyperdrive           0   19            99                   4   \n",
      "\n",
      "             simulation_start_time                  block_timestamp  \\\n",
      "0                              NaT                              NaT   \n",
      "1 2023-02-22 01:57:50.614125+00:00 2023-03-13 21:09:50.614125+00:00   \n",
      "\n",
      "           current_market_datetime  current_market_time  ...  \\\n",
      "0                              NaT             0.000000  ...   \n",
      "1 2023-03-13 21:09:50.614125+00:00             0.054247  ...   \n",
      "\n",
      "   price_total_return_percent  price_total_return_scaled_to_share_price  \\\n",
      "0                    0.000000                                  1.000000   \n",
      "1                  -14.373612                                  0.856264   \n",
      "\n",
      "  share_price_total_return  share_price_total_return_percent  \\\n",
      "0                 0.000000                          0.000000   \n",
      "1                 0.000521                          0.052068   \n",
      "\n",
      "   price_total_return_percent_annualized  \\\n",
      "0                               0.000000   \n",
      "1                            -262.318417   \n",
      "\n",
      "   share_price_total_return_percent_annualized   agent_0_pnl  \\\n",
      "0                                     0.000000  5.077117e+08   \n",
      "1                                     0.950234  5.002603e+08   \n",
      "\n",
      "   agent_0_pnl_no_mock  agent_1_pnl  agent_1_pnl_no_mock  \n",
      "0         5.077117e+08          0.0                  0.0  \n",
      "1         5.002603e+08       5000.0               5000.0  \n",
      "\n",
      "[2 rows x 90 columns]\n"
     ]
    }
   ],
   "source": [
    "# print(simulator.get_simulation_state_string())\n",
    "print(simulator.market.__dict__)\n",
    "\n",
    "# convert simulation state to a pandas dataframe\n",
    "trades = post_processing.compute_derived_variables(simulator)\n",
    "print(trades.keys)"
   ]
  },
  {
   "attachments": {},
   "cell_type": "markdown",
   "metadata": {},
   "source": [
    "### Charts"
   ]
  },
  {
   "cell_type": "code",
   "execution_count": 18,
   "metadata": {},
   "outputs": [
    {
     "data": {
      "image/png": "[encoded data removed]",
      "text/plain": [
       "<Figure size 500x500 with 1 Axes>"
      ]
     },
     "metadata": {},
     "output_type": "display_data"
    }
   ],
   "source": [
    "fig, axes, _ = output_utils.get_gridspec_subplots(nrows=1, ncols=1)\n",
    "ax = trades.iloc[:-1].plot(x=\"trade_number\", y=\"share_reserves\", ax=axes[0], c=\"blue\")\n",
    "ax = trades.iloc[:-1].plot(x=\"trade_number\", y=\"bond_reserves\", ax=axes[0], c=\"orange\")\n",
    "ax.set_xlabel(\"trade number\")\n",
    "ax.set_ylabel(\"reserve amount\")\n",
    "ax.set_title(\"Market reserves\")\n",
    "fig.set_size_inches(fig_size)"
   ]
  }
 ],
 "metadata": {
  "kernelspec": {
   "display_name": "elf-env",
   "language": "python",
   "name": "python3"
  },
  "language_info": {
   "codemirror_mode": {
    "name": "ipython",
    "version": 3
   },
   "file_extension": ".py",
   "mimetype": "text/x-python",
   "name": "python",
   "nbconvert_exporter": "python",
   "pygments_lexer": "ipython3",
   "version": "3.8.16"
  },
  "orig_nbformat": 4,
  "vscode": {
   "interpreter": {
    "hash": "62b794cc9b18c7f08b23d30e4bd5e3890b0fb2a3ad941abceb39c27c2470f2e0"
   }
  }
 },
 "nbformat": 4,
 "nbformat_minor": 2
}
