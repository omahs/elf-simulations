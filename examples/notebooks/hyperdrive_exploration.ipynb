{
 "cells": [
  {
   "attachments": {},
   "cell_type": "markdown",
   "metadata": {},
   "source": [
    "## Hyperdrive Exploration Simulation\n",
    "This notebook is to explore the base functionality of Hyperdrive\n",
    "\n",
    "For details on the simulation framework, please see our <a href=\"https://elfpy.element.fi/\"> simulation documentation</a>"
   ]
  },
  {
   "attachments": {},
   "cell_type": "markdown",
   "metadata": {},
   "source": [
    "### Install repo requirements & import packages"
   ]
  },
  {
   "cell_type": "code",
   "execution_count": 616,
   "metadata": {},
   "outputs": [
    {
     "name": "stdout",
     "output_type": "stream",
     "text": [
      "running locally & trusting that you have the dependencies installed\n"
     ]
    }
   ],
   "source": [
    "# test: skip-cell\n",
    "try: # install dependencies only if running on google colab\n",
    "    import google.colab # check if running in colab\n",
    "    !pip install -r https://raw.githubusercontent.com/element-fi/elf-simulations/main/requirements-3.8.txt \n",
    "    !pip install git+https://github.com/element-fi/elf-simulations.git\n",
    "except:\n",
    "    print(\"running locally & trusting that you have the dependencies installed\")"
   ]
  },
  {
   "cell_type": "code",
   "execution_count": 617,
   "metadata": {},
   "outputs": [],
   "source": [
    "from __future__ import annotations\n",
    "\n",
    "import numpy as np\n",
    "from numpy.random._generator import Generator\n",
    "import matplotlib.ticker as ticker\n",
    "\n",
    "from elfpy import WEI\n",
    "from elfpy.agents.agent import Agent\n",
    "from elfpy.markets.hyperdrive import Market, MarketAction, MarketActionType\n",
    "from elfpy.utils import sim_utils\n",
    "import elfpy.utils.outputs as output_utils\n",
    "import elfpy.utils.post_processing as post_processing\n",
    "from elfpy.simulators import Config"
   ]
  },
  {
   "attachments": {},
   "cell_type": "markdown",
   "metadata": {},
   "source": [
    "### Setup experiment parameters"
   ]
  },
  {
   "cell_type": "code",
   "execution_count": 618,
   "metadata": {},
   "outputs": [],
   "source": [
    "config = Config()\n",
    "\n",
    "# General config parameters\n",
    "config.title = \"Hyperdrive Core Features\"\n",
    "config.pricing_model_name = \"Hyperdrive\" # can be yieldspace or hyperdrive\n",
    "\n",
    "config.num_trading_days = 100 # Number of simulated trading days\n",
    "config.num_blocks_per_day = 5 # Blocks in a given day (7200 means ~12 sec per block)\n",
    "config.num_position_days = 90 # How long a token reaches maturity\n",
    "\n",
    "config.trade_fee_percent = 0.05 # fee percent collected on trades\n",
    "config.redemption_fee_percent = 0.05 # fee collected on the spread of the flat portion\n",
    "\n",
    "config.target_fixed_apr = 0.03 # target fixed APR of the initial market after the LP\n",
    "config.target_liquidity = 250_000 # target total liquidity of the initial market, before any trades\n",
    "\n",
    "config.log_level = output_utils.text_to_log_level(\"INFO\") # Logging level, should be in [\"DEBUG\", \"INFO\", \"WARNING\"]\n",
    "config.log_filename = \"./hyperdrive_exploration.log\" # Output filename for logging\n",
    "\n",
    "config.shuffle_users = True\n",
    "\n",
    "# Notebook specific parameters\n",
    "num_longs = 1\n",
    "\n",
    "# Define the vault apr\n",
    "vault_apr = np.array([0.01] * config.num_trading_days)\n",
    "\n",
    "#vault_apr[config.num_trading_days//2:] = 0.05\n",
    "config.variable_apr = vault_apr.tolist()\n",
    "config.freeze()\n",
    "\n",
    "fig_size = (5, 5)"
   ]
  },
  {
   "attachments": {},
   "cell_type": "markdown",
   "metadata": {},
   "source": [
    "### Setup agents"
   ]
  },
  {
   "cell_type": "code",
   "execution_count": 619,
   "metadata": {},
   "outputs": [],
   "source": [
    "class ShortAgent(Agent):\n",
    "    \"\"\"Opens Basic Short\"\"\"\n",
    "    def action(self, market: Market):\n",
    "        \"\"\"implement user strategy\"\"\"\n",
    "        return []"
   ]
  },
  {
   "cell_type": "code",
   "execution_count": 620,
   "metadata": {},
   "outputs": [],
   "source": [
    "class LongAgent(Agent):\n",
    "    \"\"\"Opens Basic Long\"\"\"\n",
    "    def action(self, market: Market):\n",
    "        \"\"\"implement user strategy\"\"\"\n",
    "        long_balances = [long.balance for long in self.wallet.longs.values()]\n",
    "        has_opened_long = bool(any(long_balance > 0 for long_balance in long_balances))\n",
    "\n",
    "        if has_opened_long:\n",
    "            return [\n",
    "                self.create_agent_action(\n",
    "                    action_type=MarketActionType.OPEN_LONG,\n",
    "                    trade_amount=49_900,\n",
    "                    mint_time=market.time\n",
    "                )\n",
    "            ]\n",
    "        else:\n",
    "            return []"
   ]
  },
  {
   "cell_type": "code",
   "execution_count": 621,
   "metadata": {},
   "outputs": [],
   "source": [
    "class LPAgent(Agent):\n",
    "    \"\"\"Adds a large LP\"\"\"\n",
    "    def action(self, market: Market):\n",
    "        \"\"\"implement user strategy\"\"\"\n",
    "        if self.wallet.lp_tokens > 0: # has already opened the lp\n",
    "            action_list = []\n",
    "        else:\n",
    "            action_list = [\n",
    "                self.create_agent_action(\n",
    "                    action_type=MarketActionType.ADD_LIQUIDITY, trade_amount=self.budget\n",
    "                ),\n",
    "            ]\n",
    "        return action_list"
   ]
  },
  {
   "attachments": {},
   "cell_type": "markdown",
   "metadata": {},
   "source": [
    "### Instantiate Example Agents"
   ]
  },
  {
   "cell_type": "code",
   "execution_count": 622,
   "metadata": {},
   "outputs": [],
   "source": [
    "\n",
    "def get_example_agents(rng: Generator, num_shorts: int, num_longs: int, existing_agents: int = 0) -> list[Agent]:\n",
    "    \"\"\"Instantiate a set of custom agents\"\"\"\n",
    "    agents = []\n",
    "    for address in range(existing_agents, existing_agents + num_longs):\n",
    "        agent = LongAgent(\n",
    "            wallet_address=address,\n",
    "            budget=10_000,\n",
    "        )\n",
    "        agent.log_status_report()\n",
    "        agents += [agent]\n",
    "    existing_agents += len(agents)\n",
    "    return agents"
   ]
  },
  {
   "attachments": {},
   "cell_type": "markdown",
   "metadata": {},
   "source": [
    "### Setup simulation objects"
   ]
  },
  {
   "cell_type": "code",
   "execution_count": 623,
   "metadata": {},
   "outputs": [],
   "source": [
    "# define root logging parameters\n",
    "output_utils.setup_logging(log_filename=config.log_filename, log_level=config.log_level)\n",
    "\n",
    "# get an instantiated simulator object\n",
    "# simulator = sim_utils.get_simulator(config)"
   ]
  },
  {
   "attachments": {},
   "cell_type": "markdown",
   "metadata": {},
   "source": [
    "### Run the simulation"
   ]
  },
  {
   "cell_type": "code",
   "execution_count": null,
   "metadata": {},
   "outputs": [],
   "source": []
  },
  {
   "cell_type": "code",
   "execution_count": 624,
   "metadata": {},
   "outputs": [
    {
     "name": "stdout",
     "output_type": "stream",
     "text": [
      "Simulator has 2 agents\n",
      "Simulator has 3 agents\n"
     ]
    },
    {
     "ename": "AssertionError",
     "evalue": "pricing_models.check_input_assertions: ERROR: expected reserves_difference < 20000000000.0, not 1.3247516255648491e+20!",
     "output_type": "error",
     "traceback": [
      "\u001b[0;31m---------------------------------------------------------------------------\u001b[0m",
      "\u001b[0;31mAssertionError\u001b[0m                            Traceback (most recent call last)",
      "Cell \u001b[0;32mIn[624], line 15\u001b[0m\n\u001b[1;32m     12\u001b[0m \u001b[39mprint\u001b[39m(\u001b[39mf\u001b[39m\u001b[39m\"\u001b[39m\u001b[39mSimulator has \u001b[39m\u001b[39m{\u001b[39;00m\u001b[39mlen\u001b[39m(simulator\u001b[39m.\u001b[39magents)\u001b[39m}\u001b[39;00m\u001b[39m agents\u001b[39m\u001b[39m\"\u001b[39m)\n\u001b[1;32m     14\u001b[0m \u001b[39m# run the simulation\u001b[39;00m\n\u001b[0;32m---> 15\u001b[0m simulator\u001b[39m.\u001b[39;49mrun_simulation()\n\u001b[1;32m     16\u001b[0m trades \u001b[39m=\u001b[39m post_processing\u001b[39m.\u001b[39mcompute_derived_variables(simulator)\n\u001b[1;32m     17\u001b[0m bond_reserves \u001b[39m+\u001b[39m\u001b[39m=\u001b[39m trades\u001b[39m.\u001b[39miloc[\u001b[39m0\u001b[39m][\u001b[39m\"\u001b[39m\u001b[39mbond_reserves\u001b[39m\u001b[39m\"\u001b[39m]\n",
      "File \u001b[0;32m~/code/elf-simulations/elfpy/simulators/simulators.py:616\u001b[0m, in \u001b[0;36mSimulator.run_simulation\u001b[0;34m(self, liquidate_on_end)\u001b[0m\n\u001b[1;32m    612\u001b[0m \u001b[39mif\u001b[39;00m \u001b[39mself\u001b[39m\u001b[39m.\u001b[39mconfig\u001b[39m.\u001b[39mdo_dataframe_states:\n\u001b[1;32m    613\u001b[0m     \u001b[39mself\u001b[39m\u001b[39m.\u001b[39mnew_simulation_state\u001b[39m.\u001b[39mupdate(\n\u001b[1;32m    614\u001b[0m         block_vars\u001b[39m=\u001b[39mBlockSimVariables(\u001b[39mself\u001b[39m\u001b[39m.\u001b[39mrun_number, \u001b[39mself\u001b[39m\u001b[39m.\u001b[39mday, \u001b[39mself\u001b[39m\u001b[39m.\u001b[39mblock_number, \u001b[39mself\u001b[39m\u001b[39m.\u001b[39mmarket\u001b[39m.\u001b[39mtime)\n\u001b[1;32m    615\u001b[0m     )\n\u001b[0;32m--> 616\u001b[0m \u001b[39mself\u001b[39;49m\u001b[39m.\u001b[39;49mcollect_and_execute_trades(liquidate)\n\u001b[1;32m    617\u001b[0m logging\u001b[39m.\u001b[39mdebug(\u001b[39m\"\u001b[39m\u001b[39mday = \u001b[39m\u001b[39m%d\u001b[39;00m\u001b[39m, daily_block_number = \u001b[39m\u001b[39m%d\u001b[39;00m\u001b[39m\\n\u001b[39;00m\u001b[39m\"\u001b[39m, \u001b[39mself\u001b[39m\u001b[39m.\u001b[39mday, \u001b[39mself\u001b[39m\u001b[39m.\u001b[39mdaily_block_number)\n\u001b[1;32m    618\u001b[0m \u001b[39mself\u001b[39m\u001b[39m.\u001b[39mmarket\u001b[39m.\u001b[39mlog_market_step_string()\n",
      "File \u001b[0;32m~/code/elf-simulations/elfpy/simulators/simulators.py:481\u001b[0m, in \u001b[0;36mSimulator.collect_and_execute_trades\u001b[0;34m(self, last_block_in_sim)\u001b[0m\n\u001b[1;32m    479\u001b[0m trades \u001b[39m=\u001b[39m \u001b[39mself\u001b[39m\u001b[39m.\u001b[39mcollect_trades(agent_ids, liquidate\u001b[39m=\u001b[39mlast_block_in_sim)\n\u001b[1;32m    480\u001b[0m \u001b[39m# Execute the trades\u001b[39;00m\n\u001b[0;32m--> 481\u001b[0m \u001b[39mself\u001b[39;49m\u001b[39m.\u001b[39;49mexecute_trades(trades)\n",
      "File \u001b[0;32m~/code/elf-simulations/elfpy/simulators/simulators.py:521\u001b[0m, in \u001b[0;36mSimulator.execute_trades\u001b[0;34m(self, agent_actions)\u001b[0m\n\u001b[1;32m    513\u001b[0m \u001b[39m\u001b[39m\u001b[39mr\u001b[39m\u001b[39m\"\"\"Execute a list of trades associated with agents in the simulator.\u001b[39;00m\n\u001b[1;32m    514\u001b[0m \n\u001b[1;32m    515\u001b[0m \u001b[39mParameters\u001b[39;00m\n\u001b[0;32m   (...)\u001b[0m\n\u001b[1;32m    518\u001b[0m \u001b[39m    A list of agent trades. These will be executed in order.\u001b[39;00m\n\u001b[1;32m    519\u001b[0m \u001b[39m\"\"\"\u001b[39;00m\n\u001b[1;32m    520\u001b[0m \u001b[39mfor\u001b[39;00m trade \u001b[39min\u001b[39;00m agent_actions:\n\u001b[0;32m--> 521\u001b[0m     agent_id, agent_deltas, market_deltas \u001b[39m=\u001b[39m \u001b[39mself\u001b[39;49m\u001b[39m.\u001b[39;49mmarket\u001b[39m.\u001b[39;49mperform_action(trade)\n\u001b[1;32m    522\u001b[0m     \u001b[39mself\u001b[39m\u001b[39m.\u001b[39mmarket\u001b[39m.\u001b[39mupdate_market(market_deltas)\n\u001b[1;32m    523\u001b[0m     agent \u001b[39m=\u001b[39m \u001b[39mself\u001b[39m\u001b[39m.\u001b[39magents[agent_id]\n",
      "File \u001b[0;32m~/code/elf-simulations/elfpy/markets/hyperdrive.py:334\u001b[0m, in \u001b[0;36mMarket.perform_action\u001b[0;34m(self, action_details)\u001b[0m\n\u001b[1;32m    329\u001b[0m     market_deltas, agent_deltas \u001b[39m=\u001b[39m \u001b[39mself\u001b[39m\u001b[39m.\u001b[39madd_liquidity(\n\u001b[1;32m    330\u001b[0m         wallet_address\u001b[39m=\u001b[39magent_action\u001b[39m.\u001b[39mwallet\u001b[39m.\u001b[39maddress,\n\u001b[1;32m    331\u001b[0m         trade_amount\u001b[39m=\u001b[39magent_action\u001b[39m.\u001b[39mtrade_amount,\n\u001b[1;32m    332\u001b[0m     )\n\u001b[1;32m    333\u001b[0m \u001b[39melif\u001b[39;00m agent_action\u001b[39m.\u001b[39maction_type \u001b[39m==\u001b[39m MarketActionType\u001b[39m.\u001b[39mREMOVE_LIQUIDITY:\n\u001b[0;32m--> 334\u001b[0m     market_deltas, agent_deltas \u001b[39m=\u001b[39m \u001b[39mself\u001b[39;49m\u001b[39m.\u001b[39;49mremove_liquidity(\n\u001b[1;32m    335\u001b[0m         wallet_address\u001b[39m=\u001b[39;49magent_action\u001b[39m.\u001b[39;49mwallet\u001b[39m.\u001b[39;49maddress,\n\u001b[1;32m    336\u001b[0m         trade_amount\u001b[39m=\u001b[39;49magent_action\u001b[39m.\u001b[39;49mtrade_amount,\n\u001b[1;32m    337\u001b[0m     )\n\u001b[1;32m    338\u001b[0m \u001b[39melse\u001b[39;00m:\n\u001b[1;32m    339\u001b[0m     \u001b[39mraise\u001b[39;00m \u001b[39mValueError\u001b[39;00m(\u001b[39mf\u001b[39m\u001b[39m'\u001b[39m\u001b[39mERROR: Unknown trade type \u001b[39m\u001b[39m\"\u001b[39m\u001b[39m{\u001b[39;00magent_action\u001b[39m.\u001b[39maction_type\u001b[39m}\u001b[39;00m\u001b[39m\"\u001b[39m\u001b[39m.\u001b[39m\u001b[39m'\u001b[39m)\n",
      "File \u001b[0;32m~/code/elf-simulations/elfpy/markets/hyperdrive.py:682\u001b[0m, in \u001b[0;36mMarket.remove_liquidity\u001b[0;34m(self, wallet_address, trade_amount)\u001b[0m\n\u001b[1;32m    680\u001b[0m \u001b[39m\u001b[39m\u001b[39m\"\"\"Computes new deltas for bond & share reserves after liquidity is removed\"\"\"\u001b[39;00m\n\u001b[1;32m    681\u001b[0m \u001b[39m# sanity check inputs\u001b[39;00m\n\u001b[0;32m--> 682\u001b[0m \u001b[39mself\u001b[39;49m\u001b[39m.\u001b[39;49mpricing_model\u001b[39m.\u001b[39;49mcheck_input_assertions(\n\u001b[1;32m    683\u001b[0m     quantity\u001b[39m=\u001b[39;49mtypes\u001b[39m.\u001b[39;49mQuantity(\n\u001b[1;32m    684\u001b[0m         amount\u001b[39m=\u001b[39;49mtrade_amount, unit\u001b[39m=\u001b[39;49mtypes\u001b[39m.\u001b[39;49mTokenType\u001b[39m.\u001b[39;49mPT\n\u001b[1;32m    685\u001b[0m     ),  \u001b[39m# temporary Quantity object just for this check\u001b[39;49;00m\n\u001b[1;32m    686\u001b[0m     market_state\u001b[39m=\u001b[39;49m\u001b[39mself\u001b[39;49m\u001b[39m.\u001b[39;49mmarket_state,\n\u001b[1;32m    687\u001b[0m     time_remaining\u001b[39m=\u001b[39;49m\u001b[39mself\u001b[39;49m\u001b[39m.\u001b[39;49mposition_duration,\n\u001b[1;32m    688\u001b[0m )\n\u001b[1;32m    689\u001b[0m \u001b[39m# perform the trade\u001b[39;00m\n\u001b[1;32m    690\u001b[0m lp_in, d_base_reserves, d_bond_reserves \u001b[39m=\u001b[39m \u001b[39mself\u001b[39m\u001b[39m.\u001b[39mpricing_model\u001b[39m.\u001b[39mcalc_tokens_out_given_lp_in(\n\u001b[1;32m    691\u001b[0m     lp_in\u001b[39m=\u001b[39mtrade_amount,\n\u001b[1;32m    692\u001b[0m     rate\u001b[39m=\u001b[39m\u001b[39mself\u001b[39m\u001b[39m.\u001b[39mfixed_apr,\n\u001b[1;32m    693\u001b[0m     market_state\u001b[39m=\u001b[39m\u001b[39mself\u001b[39m\u001b[39m.\u001b[39mmarket_state,\n\u001b[1;32m    694\u001b[0m     time_remaining\u001b[39m=\u001b[39m\u001b[39mself\u001b[39m\u001b[39m.\u001b[39mposition_duration,\n\u001b[1;32m    695\u001b[0m )\n",
      "File \u001b[0;32m~/code/elf-simulations/elfpy/pricing_models/base.py:563\u001b[0m, in \u001b[0;36mPricingModel.check_input_assertions\u001b[0;34m(self, quantity, market_state, time_remaining)\u001b[0m\n\u001b[1;32m    558\u001b[0m \u001b[39massert\u001b[39;00m market_state\u001b[39m.\u001b[39minit_share_price \u001b[39m>\u001b[39m\u001b[39m=\u001b[39m \u001b[39m1\u001b[39m, (\n\u001b[1;32m    559\u001b[0m     \u001b[39mf\u001b[39m\u001b[39m\"\u001b[39m\u001b[39mpricing_models.check_input_assertions: ERROR: \u001b[39m\u001b[39m\"\u001b[39m\n\u001b[1;32m    560\u001b[0m     \u001b[39mf\u001b[39m\u001b[39m\"\u001b[39m\u001b[39mexpected init_share_price >= 1, not share_price=\u001b[39m\u001b[39m{\u001b[39;00mmarket_state\u001b[39m.\u001b[39minit_share_price\u001b[39m}\u001b[39;00m\u001b[39m\"\u001b[39m\n\u001b[1;32m    561\u001b[0m )\n\u001b[1;32m    562\u001b[0m reserves_difference \u001b[39m=\u001b[39m \u001b[39mabs\u001b[39m(market_state\u001b[39m.\u001b[39mshare_reserves \u001b[39m*\u001b[39m market_state\u001b[39m.\u001b[39mshare_price \u001b[39m-\u001b[39m market_state\u001b[39m.\u001b[39mbond_reserves)\n\u001b[0;32m--> 563\u001b[0m \u001b[39massert\u001b[39;00m reserves_difference \u001b[39m<\u001b[39m MAX_RESERVES_DIFFERENCE, (\n\u001b[1;32m    564\u001b[0m     \u001b[39m\"\u001b[39m\u001b[39mpricing_models.check_input_assertions: ERROR: \u001b[39m\u001b[39m\"\u001b[39m\n\u001b[1;32m    565\u001b[0m     \u001b[39mf\u001b[39m\u001b[39m\"\u001b[39m\u001b[39mexpected reserves_difference < \u001b[39m\u001b[39m{\u001b[39;00mMAX_RESERVES_DIFFERENCE\u001b[39m}\u001b[39;00m\u001b[39m, not \u001b[39m\u001b[39m{\u001b[39;00mreserves_difference\u001b[39m}\u001b[39;00m\u001b[39m!\u001b[39m\u001b[39m\"\u001b[39m\n\u001b[1;32m    566\u001b[0m )\n\u001b[1;32m    567\u001b[0m \u001b[39massert\u001b[39;00m \u001b[39m1\u001b[39m \u001b[39m>\u001b[39m\u001b[39m=\u001b[39m market_state\u001b[39m.\u001b[39mtrade_fee_percent \u001b[39m>\u001b[39m\u001b[39m=\u001b[39m \u001b[39m0\u001b[39m, (\n\u001b[1;32m    568\u001b[0m     \u001b[39m\"\u001b[39m\u001b[39mpricing_models.check_input_assertions: ERROR: \u001b[39m\u001b[39m\"\u001b[39m\n\u001b[1;32m    569\u001b[0m     \u001b[39mf\u001b[39m\u001b[39m\"\u001b[39m\u001b[39mexpected 1 >= trade_fee_percent >= 0, not \u001b[39m\u001b[39m{\u001b[39;00mmarket_state\u001b[39m.\u001b[39mtrade_fee_percent\u001b[39m}\u001b[39;00m\u001b[39m!\u001b[39m\u001b[39m\"\u001b[39m\n\u001b[1;32m    570\u001b[0m )\n\u001b[1;32m    571\u001b[0m \u001b[39massert\u001b[39;00m \u001b[39m1\u001b[39m \u001b[39m>\u001b[39m\u001b[39m=\u001b[39m market_state\u001b[39m.\u001b[39mredemption_fee_percent \u001b[39m>\u001b[39m\u001b[39m=\u001b[39m \u001b[39m0\u001b[39m, (\n\u001b[1;32m    572\u001b[0m     \u001b[39m\"\u001b[39m\u001b[39mpricing_models.check_input_assertions: ERROR: \u001b[39m\u001b[39m\"\u001b[39m\n\u001b[1;32m    573\u001b[0m     \u001b[39mf\u001b[39m\u001b[39m\"\u001b[39m\u001b[39mexpected 1 >= redemption_fee_percent >= 0, not \u001b[39m\u001b[39m{\u001b[39;00mmarket_state\u001b[39m.\u001b[39mredemption_fee_percent\u001b[39m}\u001b[39;00m\u001b[39m!\u001b[39m\u001b[39m\"\u001b[39m\n\u001b[1;32m    574\u001b[0m )\n",
      "\u001b[0;31mAssertionError\u001b[0m: pricing_models.check_input_assertions: ERROR: expected reserves_difference < 20000000000.0, not 1.3247516255648491e+20!"
     ]
    }
   ],
   "source": [
    "bond_reserves = []\n",
    "for x in np.arange(0, 5, 0.1):\n",
    "    config.\n",
    "    simulator = sim_utils.get_simulator(config)\n",
    "\n",
    "    # add the random agents\n",
    "    trading_agents = get_example_agents(\n",
    "        rng=simulator.rng,\n",
    "        num_shorts=0,\n",
    "        num_longs=1,\n",
    "        existing_agents=len(simulator.agents)\n",
    "    )\n",
    "    simulator.add_agents(trading_agents)\n",
    "    print(f\"Simulator has {len(simulator.agents)} agents\")\n",
    "\n",
    "    # run the simulation\n",
    "    simulator.run_simulation()\n",
    "    trades = post_processing.compute_derived_variables(simulator)\n",
    "    bond_reserves += trades.iloc[0][\"bond_reserves\"]\n",
    "\n",
    "print(bond_reserves)"
   ]
  },
  {
   "cell_type": "code",
   "execution_count": null,
   "metadata": {},
   "outputs": [],
   "source": [
    "# print(simulator.get_simulation_state_string())\n",
    "# print(simulator.market.__dict__)\n",
    "\n",
    "# convert simulation state to a pandas dataframe\n",
    "# trades = post_processing.compute_derived_variables(simulator)\n",
    "# print(trades.iloc[1][\"lp_total_supply\"])\n",
    "# print(trades.iloc[1][\"share_reserves\"])\n",
    "# print(trades.iloc[0][\"bond_reserves\"])\n",
    "# print(trades.iloc[0][\"share_reserves\"])\n",
    "# print(trades.iloc[2][\"base_buffer\"])\n",
    "# print(trades.iloc[1][\"agent_1_total_longs\"])\n",
    "# print(trades.iloc[1][\"fixed_apr\"])\n",
    "# print(trades.keys())"
   ]
  },
  {
   "attachments": {},
   "cell_type": "markdown",
   "metadata": {},
   "source": [
    "### Charts"
   ]
  },
  {
   "cell_type": "code",
   "execution_count": null,
   "metadata": {},
   "outputs": [
    {
     "data": {
      "image/png": "[encoded data removed]",
      "text/plain": [
       "<Figure size 500x500 with 1 Axes>"
      ]
     },
     "metadata": {},
     "output_type": "display_data"
    }
   ],
   "source": [
    "fig, axes, _ = output_utils.get_gridspec_subplots(nrows=1, ncols=1)\n",
    "ax = trades.iloc[:-1].plot(x=\"trade_number\", y=\"share_reserves\", ax=axes[0], c=\"blue\")\n",
    "ax = trades.iloc[:-1].plot(x=\"trade_number\", y=\"bond_reserves\", ax=axes[0], c=\"orange\")\n",
    "ax.set_xlabel(\"trade number\")\n",
    "ax.set_ylabel(\"reserve amount\")\n",
    "ax.set_title(\"Market reserves\")\n",
    "fig.set_size_inches(fig_size)"
   ]
  }
 ],
 "metadata": {
  "kernelspec": {
   "display_name": "elf-env",
   "language": "python",
   "name": "python3"
  },
  "language_info": {
   "codemirror_mode": {
    "name": "ipython",
    "version": 3
   },
   "file_extension": ".py",
   "mimetype": "text/x-python",
   "name": "python",
   "nbconvert_exporter": "python",
   "pygments_lexer": "ipython3",
   "version": "3.8.16"
  },
  "orig_nbformat": 4,
  "vscode": {
   "interpreter": {
    "hash": "62b794cc9b18c7f08b23d30e4bd5e3890b0fb2a3ad941abceb39c27c2470f2e0"
   }
  }
 },
 "nbformat": 4,
 "nbformat_minor": 2
}
