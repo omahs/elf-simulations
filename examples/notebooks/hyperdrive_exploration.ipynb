{
 "cells": [
  {
   "attachments": {},
   "cell_type": "markdown",
   "metadata": {},
   "source": [
    "## Hyperdrive Exploration Simulation\n",
    "This notebook is to explore the base functionality of Hyperdrive\n",
    "\n",
    "For details on the simulation framework, please see our <a href=\"https://elfpy.element.fi/\"> simulation documentation</a>"
   ]
  },
  {
   "attachments": {},
   "cell_type": "markdown",
   "metadata": {},
   "source": [
    "### Install repo requirements & import packages"
   ]
  },
  {
   "cell_type": "code",
   "execution_count": 14,
   "metadata": {},
   "outputs": [
    {
     "name": "stdout",
     "output_type": "stream",
     "text": [
      "running locally & trusting that you have the dependencies installed\n"
     ]
    }
   ],
   "source": [
    "# test: skip-cell\n",
    "try: # install dependencies only if running on google colab\n",
    "    import google.colab # check if running in colab\n",
    "    !pip install -r https://raw.githubusercontent.com/element-fi/elf-simulations/main/requirements-3.8.txt \n",
    "    !pip install git+https://github.com/element-fi/elf-simulations.git\n",
    "except:\n",
    "    print(\"running locally & trusting that you have the dependencies installed\")"
   ]
  },
  {
   "cell_type": "code",
   "execution_count": 15,
   "metadata": {},
   "outputs": [],
   "source": [
    "from __future__ import annotations\n",
    "\n",
    "import time as time\n",
    "\n",
    "import numpy as np\n",
    "from numpy.random._generator import Generator\n",
    "import matplotlib.pyplot as plt\n",
    "import matplotlib.ticker as ticker\n",
    "\n",
    "from elfpy import WEI\n",
    "from elfpy.types import MarketActionType, MarketAction, Quantity, TokenType, MarketDeltas\n",
    "from elfpy.simulators import Simulator\n",
    "from elfpy.agent import Agent\n",
    "from elfpy.markets import Market\n",
    "from elfpy.utils import sim_utils\n",
    "import elfpy.utils.time as time_utils\n",
    "import elfpy.utils.outputs as output_utils\n",
    "import elfpy.utils.post_processing as post_processing\n",
    "from elfpy.types import MarketState, StretchedTime, Config\n",
    "from elfpy.utils.outputs import get_gridspec_subplots"
   ]
  },
  {
   "attachments": {},
   "cell_type": "markdown",
   "metadata": {},
   "source": [
    "### Setup experiment parameters"
   ]
  },
  {
   "cell_type": "code",
   "execution_count": 16,
   "metadata": {},
   "outputs": [],
   "source": [
    "config = Config()\n",
    "\n",
    "# General config parameters\n",
    "config.title = \"Hyperdrive Core Features\"\n",
    "config.pricing_model_name = \"Hyperdrive\" # can be yieldspace or hyperdrive\n",
    "\n",
    "config.num_trading_days = 20 # Number of simulated trading days\n",
    "config.num_blocks_per_day = 5 # Blocks in a given day (7200 means ~12 sec per block)\n",
    "config.num_position_days = 10 # How long a token reaches maturity\n",
    "\n",
    "config.trade_fee_percent = 0.05 # fee percent collected on trades\n",
    "config.redemption_fee_percent = 0.05 # fee collected on the spread of the flat portion\n",
    "\n",
    "config.target_pool_apr = 0.01 # target pool APR of the initial market after the LP\n",
    "config.target_liquidity = 500_000_000 # target total liquidity of the initial market, before any trades\n",
    "\n",
    "config.log_level = output_utils.text_to_log_level(\"INFO\") # Logging level, should be in [\"DEBUG\", \"INFO\", \"WARNING\"]\n",
    "config.log_filename = \"./hyperdrive_exploration.log\" # Output filename for logging\n",
    "\n",
    "config.shuffle_users = True\n",
    "\n",
    "# Notebook specific parameters\n",
    "\n",
    "# TBD"
   ]
  },
  {
   "attachments": {},
   "cell_type": "markdown",
   "metadata": {},
   "source": [
    "### Setup agents"
   ]
  },
  {
   "cell_type": "code",
   "execution_count": 17,
   "metadata": {},
   "outputs": [],
   "source": [
    "class ShortAgent(Agent):\n",
    "    \"\"\"Opens Basic Short\"\"\"\n",
    "    def action(self, market: Market):\n",
    "        \"\"\"implement user strategy\"\"\"\n",
    "        return []"
   ]
  },
  {
   "cell_type": "code",
   "execution_count": 18,
   "metadata": {},
   "outputs": [],
   "source": [
    "class LongAgent(Agent):\n",
    "    \"\"\"Opens Basic Long\"\"\"\n",
    "    def action(self, market: Market):\n",
    "        \"\"\"implement user strategy\"\"\"\n",
    "        return []"
   ]
  },
  {
   "cell_type": "code",
   "execution_count": 19,
   "metadata": {},
   "outputs": [],
   "source": [
    "class LPAgent(Agent):\n",
    "    \"\"\"Adds a large LP\"\"\"\n",
    "    def action(self, market: Market):\n",
    "        \"\"\"implement user strategy\"\"\"\n",
    "        if self.wallet.lp_tokens > 0: # has already opened the lp\n",
    "            action_list = []\n",
    "        else:\n",
    "            action_list = [\n",
    "                self.create_agent_action(\n",
    "                    action_type=MarketActionType.ADD_LIQUIDITY, trade_amount=self.budget\n",
    "                ),\n",
    "            ]\n",
    "        return action_list"
   ]
  },
  {
   "attachments": {},
   "cell_type": "markdown",
   "metadata": {},
   "source": [
    "### Instantiate Example Agents"
   ]
  },
  {
   "cell_type": "code",
   "execution_count": 20,
   "metadata": {},
   "outputs": [],
   "source": [
    "\n",
    "def get_example_agents(rng: Generator, num_shorts: int, num_longs: int, existing_agents: int = 0) -> list[Agent]:\n",
    "    \"\"\"Instantiate a set of custom agents\"\"\"\n",
    "    agents = []\n",
    "    for address in range(existing_agents, existing_agents + num_shorts):\n",
    "        agent = ShortAgent(\n",
    "            wallet_address=address,\n",
    "            budget=5_000,\n",
    "        )\n",
    "        agent.log_status_report()\n",
    "        agents += [agent]\n",
    "    existing_agents += len(agents)\n",
    "    return agents"
   ]
  },
  {
   "attachments": {},
   "cell_type": "markdown",
   "metadata": {},
   "source": [
    "### Setup simulation objects"
   ]
  },
  {
   "cell_type": "code",
   "execution_count": 21,
   "metadata": {},
   "outputs": [],
   "source": [
    "# define root logging parameters\n",
    "output_utils.setup_logging(log_filename=config.log_filename, log_level=config.log_level)\n",
    "\n",
    "# get an instantiated simulator object\n",
    "simulator = sim_utils.get_simulator(config)"
   ]
  },
  {
   "attachments": {},
   "cell_type": "markdown",
   "metadata": {},
   "source": [
    "### Run the simulation"
   ]
  },
  {
   "cell_type": "code",
   "execution_count": 22,
   "metadata": {},
   "outputs": [
    {
     "name": "stdout",
     "output_type": "stream",
     "text": [
      "Simulator has 2 agents\n"
     ]
    },
    {
     "ename": "IndexError",
     "evalue": "list index out of range",
     "output_type": "error",
     "traceback": [
      "\u001b[0;31m---------------------------------------------------------------------------\u001b[0m",
      "\u001b[0;31mIndexError\u001b[0m                                Traceback (most recent call last)",
      "Cell \u001b[0;32mIn[22], line 12\u001b[0m\n\u001b[1;32m      9\u001b[0m \u001b[39mprint\u001b[39m(\u001b[39mf\u001b[39m\u001b[39m\"\u001b[39m\u001b[39mSimulator has \u001b[39m\u001b[39m{\u001b[39;00m\u001b[39mlen\u001b[39m(simulator\u001b[39m.\u001b[39magents)\u001b[39m}\u001b[39;00m\u001b[39m agents\u001b[39m\u001b[39m\"\u001b[39m)\n\u001b[1;32m     11\u001b[0m \u001b[39m# run the simulation\u001b[39;00m\n\u001b[0;32m---> 12\u001b[0m simulator\u001b[39m.\u001b[39;49mrun_simulation()\n",
      "File \u001b[0;32m~/code/elf-simulations/src/elfpy/simulators.py:224\u001b[0m, in \u001b[0;36mSimulator.run_simulation\u001b[0;34m(self, liquidate_on_end)\u001b[0m\n\u001b[1;32m    222\u001b[0m \u001b[39mfor\u001b[39;00m day \u001b[39min\u001b[39;00m \u001b[39mrange\u001b[39m(\u001b[39m0\u001b[39m, \u001b[39mself\u001b[39m\u001b[39m.\u001b[39mconfig\u001b[39m.\u001b[39mnum_trading_days):\n\u001b[1;32m    223\u001b[0m     \u001b[39mself\u001b[39m\u001b[39m.\u001b[39mday \u001b[39m=\u001b[39m day\n\u001b[0;32m--> 224\u001b[0m     \u001b[39mself\u001b[39m\u001b[39m.\u001b[39mmarket\u001b[39m.\u001b[39mmarket_state\u001b[39m.\u001b[39mvault_apr \u001b[39m=\u001b[39m \u001b[39mself\u001b[39;49m\u001b[39m.\u001b[39;49mconfig\u001b[39m.\u001b[39;49mvault_apr[\u001b[39mself\u001b[39;49m\u001b[39m.\u001b[39;49mday]\n\u001b[1;32m    225\u001b[0m     \u001b[39m# Vault return can vary per day, which sets the current price per share\u001b[39;00m\n\u001b[1;32m    226\u001b[0m     \u001b[39mif\u001b[39;00m \u001b[39mself\u001b[39m\u001b[39m.\u001b[39mday \u001b[39m>\u001b[39m \u001b[39m0\u001b[39m:  \u001b[39m# Update only after first day (first day set to init_share_price)\u001b[39;00m\n",
      "\u001b[0;31mIndexError\u001b[0m: list index out of range"
     ]
    }
   ],
   "source": [
    "# add the random agents\n",
    "trading_agents = get_example_agents(\n",
    "    rng=simulator.rng,\n",
    "    num_shorts=1,\n",
    "    num_longs=0,\n",
    "    existing_agents=len(simulator.agents)\n",
    ")\n",
    "simulator.add_agents(trading_agents)\n",
    "print(f\"Simulator has {len(simulator.agents)} agents\")\n",
    "\n",
    "# run the simulation\n",
    "simulator.run_simulation()"
   ]
  }
 ],
 "metadata": {
  "kernelspec": {
   "display_name": "elf-env",
   "language": "python",
   "name": "python3"
  },
  "language_info": {
   "codemirror_mode": {
    "name": "ipython",
    "version": 3
   },
   "file_extension": ".py",
   "mimetype": "text/x-python",
   "name": "python",
   "nbconvert_exporter": "python",
   "pygments_lexer": "ipython3",
   "version": "3.8.16"
  },
  "orig_nbformat": 4,
  "vscode": {
   "interpreter": {
    "hash": "62b794cc9b18c7f08b23d30e4bd5e3890b0fb2a3ad941abceb39c27c2470f2e0"
   }
  }
 },
 "nbformat": 4,
 "nbformat_minor": 2
}
