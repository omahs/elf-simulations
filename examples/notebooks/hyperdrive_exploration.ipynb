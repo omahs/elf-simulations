{
 "cells": [
  {
   "attachments": {},
   "cell_type": "markdown",
   "metadata": {},
   "source": [
    "## Hyperdrive Exploration Simulation\n",
    "This notebook is to explore the base functionality of Hyperdrive\n",
    "\n",
    "For details on the simulation framework, please see our <a href=\"https://elfpy.element.fi/\"> simulation documentation</a>"
   ]
  },
  {
   "attachments": {},
   "cell_type": "markdown",
   "metadata": {},
   "source": [
    "### Install repo requirements & import packages"
   ]
  },
  {
   "cell_type": "code",
   "execution_count": 191,
   "metadata": {},
   "outputs": [
    {
     "name": "stdout",
     "output_type": "stream",
     "text": [
      "running locally & trusting that you have the dependencies installed\n"
     ]
    }
   ],
   "source": [
    "# test: skip-cell\n",
    "try: # install dependencies only if running on google colab\n",
    "    import google.colab # check if running in colab\n",
    "    !pip install -r https://raw.githubusercontent.com/element-fi/elf-simulations/main/requirements-3.8.txt \n",
    "    !pip install git+https://github.com/element-fi/elf-simulations.git\n",
    "except:\n",
    "    print(\"running locally & trusting that you have the dependencies installed\")"
   ]
  },
  {
   "cell_type": "code",
   "execution_count": 192,
   "metadata": {},
   "outputs": [],
   "source": [
    "from __future__ import annotations\n",
    "\n",
    "import numpy as np\n",
    "from numpy.random._generator import Generator\n",
    "import matplotlib.ticker as ticker\n",
    "\n",
    "from elfpy import WEI\n",
    "from elfpy.agents.agent import Agent\n",
    "from elfpy.markets.hyperdrive import Market, MarketAction, MarketActionType\n",
    "from elfpy.utils import sim_utils\n",
    "import elfpy.utils.outputs as output_utils\n",
    "import elfpy.utils.post_processing as post_processing\n",
    "from elfpy.simulators import Config\n",
    "import pandas as pd\n"
   ]
  },
  {
   "attachments": {},
   "cell_type": "markdown",
   "metadata": {},
   "source": [
    "### Setup experiment parameters"
   ]
  },
  {
   "cell_type": "code",
   "execution_count": 202,
   "metadata": {},
   "outputs": [],
   "source": [
    "config = Config()\n",
    "\n",
    "# General config parameters\n",
    "config.title = \"Hyperdrive Core Features\"\n",
    "config.pricing_model_name = \"Hyperdrive\" # can be yieldspace or hyperdrive\n",
    "\n",
    "config.num_trading_days = 100 # Number of simulated trading days\n",
    "config.num_blocks_per_day = 5 # Blocks in a given day (7200 means ~12 sec per block)\n",
    "config.num_position_days = 90 # How long a token reaches maturity\n",
    "\n",
    "config.trade_fee_percent = 0.05 # fee percent collected on trades\n",
    "config.redemption_fee_percent = 0.05 # fee collected on the spread of the flat portion\n",
    "\n",
    "config.target_fixed_apr = .03 # target fixed APR of the initial market after the LP\n",
    "config.target_liquidity = 2_000_000 # target total liquidity of the initial market, before any trades\n",
    "\n",
    "config.log_level = output_utils.text_to_log_level(\"INFO\") # Logging level, should be in [\"DEBUG\", \"INFO\", \"WARNING\"]\n",
    "config.log_filename = \"./hyperdrive_exploration.log\" # Output filename for logging\n",
    "\n",
    "config.shuffle_users = True\n",
    "\n",
    "# Notebook specific parameters\n",
    "num_longs = 1\n",
    "num_shorts = 1\n",
    "\n",
    "#vault_apr[config.num_trading_days//2:] = 0.05\n",
    "# Define the vault apr\n",
    "vault_apr = np.array([0.01] * config.num_trading_days)\n",
    "config.variable_apr = vault_apr.tolist()\n",
    "config.freeze()\n",
    "\n",
    "fig_size = (5, 5)"
   ]
  },
  {
   "attachments": {},
   "cell_type": "markdown",
   "metadata": {},
   "source": [
    "### Setup agents"
   ]
  },
  {
   "cell_type": "code",
   "execution_count": 194,
   "metadata": {},
   "outputs": [],
   "source": [
    "class ShortAgent(Agent):\n",
    "    \"\"\"Opens Basic Short\"\"\"\n",
    "    def action(self, market: Market):\n",
    "        \"\"\"implement user strategy\"\"\"\n",
    "\n",
    "        short_balances = [short.balance for short in self.wallet.shorts.values()]\n",
    "        has_opened_short = bool(any(short_balance > 0 for short_balance in short_balances))\n",
    "\n",
    "        print(\"short\")\n",
    "        if not has_opened_short:\n",
    "            print(\"Short Amount: %s\" %(1000))\n",
    "            return [\n",
    "                self.create_agent_action(\n",
    "                    action_type=MarketActionType.OPEN_SHORT,\n",
    "                    trade_amount=100_000,\n",
    "                    mint_time=market.time\n",
    "                )\n",
    "            ]\n",
    "        else:\n",
    "            return []"
   ]
  },
  {
   "cell_type": "code",
   "execution_count": 195,
   "metadata": {},
   "outputs": [],
   "source": [
    "class LongAgent(Agent):\n",
    "    \"\"\"Opens Basic Long\"\"\"\n",
    "    def action(self, market: Market):\n",
    "        \"\"\"implement user strategy\"\"\"\n",
    "        long_balances = [long.balance for long in self.wallet.longs.values()]\n",
    "        has_opened_long = bool(any(long_balance > 0 for long_balance in long_balances))\n",
    "\n",
    "        if not has_opened_long:\n",
    "            print(\"Long Amount: %s\" %(1000))\n",
    "            return [\n",
    "                self.create_agent_action(\n",
    "                    action_type=MarketActionType.OPEN_LONG,\n",
    "                    trade_amount=1000,\n",
    "                    mint_time=market.time\n",
    "                )\n",
    "            ]\n",
    "        else:\n",
    "            return []"
   ]
  },
  {
   "cell_type": "code",
   "execution_count": 196,
   "metadata": {},
   "outputs": [],
   "source": [
    "class LPAgent(Agent):\n",
    "    \"\"\"Adds a large LP\"\"\"\n",
    "    def action(self, market: Market):\n",
    "        \"\"\"implement user strategy\"\"\"\n",
    "        if self.wallet.lp_tokens > 0: # has already opened the lp\n",
    "            action_list = []\n",
    "        else:\n",
    "            action_list = [\n",
    "                self.create_agent_action(\n",
    "                    action_type=MarketActionType.ADD_LIQUIDITY, trade_amount=self.budget\n",
    "                ),\n",
    "            ]\n",
    "        return action_list"
   ]
  },
  {
   "attachments": {},
   "cell_type": "markdown",
   "metadata": {},
   "source": [
    "### Instantiate Example Agents"
   ]
  },
  {
   "cell_type": "code",
   "execution_count": 197,
   "metadata": {},
   "outputs": [],
   "source": [
    "\n",
    "def get_example_agents(rng: Generator, num_shorts: int, num_longs: int, existing_agents: int = 0) -> list[Agent]:\n",
    "    \"\"\"Instantiate a set of custom agents\"\"\"\n",
    "    agents = []\n",
    "\n",
    "    for address in range(existing_agents, existing_agents + num_shorts):\n",
    "        agent = ShortAgent(\n",
    "            wallet_address=address,\n",
    "            budget=2_000_000,\n",
    "        )\n",
    "        agent.log_status_report()\n",
    "        agents += [agent]\n",
    "\n",
    "    for address in range(existing_agents, existing_agents + num_longs):\n",
    "        agent = LongAgent(\n",
    "            wallet_address=address,\n",
    "            budget=1_999_000,\n",
    "        )\n",
    "        agent.log_status_report()\n",
    "        agents += [agent]\n",
    "\n",
    "    existing_agents += len(agents)\n",
    "    return agents"
   ]
  },
  {
   "attachments": {},
   "cell_type": "markdown",
   "metadata": {},
   "source": [
    "### Setup simulation objects"
   ]
  },
  {
   "cell_type": "code",
   "execution_count": 198,
   "metadata": {},
   "outputs": [],
   "source": [
    "# define root logging parameters\n",
    "output_utils.setup_logging(log_filename=config.log_filename, log_level=config.log_level)\n",
    "\n",
    "# get an instantiated simulator object\n",
    "simulator = sim_utils.get_simulator(config)"
   ]
  },
  {
   "attachments": {},
   "cell_type": "markdown",
   "metadata": {},
   "source": [
    "### Run the simulation"
   ]
  },
  {
   "cell_type": "code",
   "execution_count": 199,
   "metadata": {},
   "outputs": [
    {
     "name": "stdout",
     "output_type": "stream",
     "text": [
      "Simulator has 2 agents\n",
      "Long Amount: 1000\n"
     ]
    }
   ],
   "source": [
    "bond_reserves = []\n",
    "simulator = sim_utils.get_simulator(config)\n",
    "\n",
    "# add the agents\n",
    "trading_agents = get_example_agents(\n",
    "    rng=simulator.rng,\n",
    "    num_shorts=num_shorts,\n",
    "    num_longs=num_longs,\n",
    "    existing_agents=len(simulator.agents)\n",
    ")\n",
    "simulator.add_agents(trading_agents)\n",
    "print(f\"Simulator has {len(simulator.agents)} agents\")\n",
    "\n",
    "# run the simulation\n",
    "simulator.run_simulation()"
   ]
  },
  {
   "cell_type": "code",
   "execution_count": 200,
   "metadata": {},
   "outputs": [
    {
     "name": "stdout",
     "output_type": "stream",
     "text": [
      "before values: \n",
      "\n",
      "bond reserves: 313282.9751069175\n",
      "share reserves: 2000000.0\n",
      "base buffer: 0.0\n",
      "bond buffer: 0\n",
      "share price: 1.0\n",
      "fixed apr: 0.030000000000000325 \n",
      "\n",
      "after values: \n",
      "\n",
      "bond reserves: 312275.9597442398\n",
      "share reserves: 2001000.0\n",
      "base buffer: 1007.015362677666\n",
      "bond buffer: 0\n",
      "share price: 1.0\n",
      "fixed apr: 0.029902108970280877 \n",
      "\n",
      "after close: \n",
      "\n",
      "bond reserves: 312275.9597442398\n",
      "share reserves: 2000045.9266431273\n",
      "base buffer: 0.0\n",
      "bond buffer: 0\n",
      "share price: 1.002715973203273\n",
      "fixed apr: 0.03014308018138059\n"
     ]
    }
   ],
   "source": [
    "# print(simulator.get_simulation_state_string())\n",
    "# print(simulator.market.__dict__)\n",
    "\n",
    "# convert simulation state to a pandas dataframe\n",
    "trades = post_processing.compute_derived_variables(simulator)\n",
    "# print(trades.iloc[1][\"share_reserves\"])\n",
    "\n",
    "print(\"before values: \\n\")\n",
    "\n",
    "print(\"bond reserves: %s\" %(trades.iloc[0][\"bond_reserves\"]))\n",
    "print(\"share reserves: %s\" %(trades.iloc[0][\"share_reserves\"]))\n",
    "print(\"base buffer: %s\" %(trades.iloc[0][\"base_buffer\"]))\n",
    "print(\"bond buffer: %s\" %(trades.iloc[0][\"bond_buffer\"]))\n",
    "print(\"share price: %s\" %(trades.iloc[0][\"share_price\"]))\n",
    "print(\"fixed apr: %s \\n\" %(trades.iloc[0][\"fixed_apr\"]))\n",
    "\n",
    "print(\"after values: \\n\")\n",
    "\n",
    "print(\"bond reserves: %s\" %(trades.iloc[1][\"bond_reserves\"]))\n",
    "print(\"share reserves: %s\" %(trades.iloc[1][\"share_reserves\"]))\n",
    "print(\"base buffer: %s\" %(trades.iloc[1][\"base_buffer\"]))\n",
    "print(\"bond buffer: %s\" %(trades.iloc[1][\"bond_buffer\"]))\n",
    "print(\"share price: %s\" %(trades.iloc[1][\"share_price\"]))\n",
    "print(\"fixed apr: %s \\n\" %(trades.iloc[1][\"fixed_apr\"]))\n",
    "\n",
    "print(\"after close: \\n\")\n",
    "\n",
    "print(\"bond reserves: %s\" %(trades.iloc[2][\"bond_reserves\"]))\n",
    "print(\"share reserves: %s\" %(trades.iloc[2][\"share_reserves\"]))\n",
    "print(\"base buffer: %s\" %(trades.iloc[2][\"base_buffer\"]))\n",
    "print(\"bond buffer: %s\" %(trades.iloc[2][\"bond_buffer\"]))\n",
    "print(\"share price: %s\" %(trades.iloc[2][\"share_price\"]))\n",
    "print(\"fixed apr: %s\" %(trades.iloc[2][\"fixed_apr\"]))\n",
    "\n",
    "# print(trades.iloc[2][\"base_buffer\"])\n",
    "# print(trades.iloc[1][\"agent_1_total_longs\"])\n",
    "# print(trades.iloc[1][\"fixed_apr\"])\n",
    "# print(trades.keys())"
   ]
  },
  {
   "attachments": {},
   "cell_type": "markdown",
   "metadata": {},
   "source": [
    "### Charts"
   ]
  },
  {
   "cell_type": "code",
   "execution_count": 201,
   "metadata": {},
   "outputs": [],
   "source": [
    "# share_price = trades.iloc[0][\"share_price\"]\n",
    "# spot_price = trades.iloc[0][\"spot_price\"]\n",
    "# fixed_apr = trades.iloc[0][\"fixed_apr\"]\n",
    "\n",
    "# print(share_price)\n",
    "# print(spot_price)\n",
    "# print(fixed_apr)\n",
    "\n",
    "# fig, axes, _ = output_utils.get_gridspec_subplots(nrows=1, ncols=1)\n",
    "# ax = reserves.plot.scatter(x=\"target_apr\", y=\"bond_reserves\", ax=axes[0], c=\"blue\")\n",
    "# # ax = trades.iloc[:-1].plot(x=\"target_apr\", y=\"bond_reserves\", ax=axes[0], c=\"orange\")\n",
    "# ax.set_xlabel(\"target fixed apr\")\n",
    "# ax.set_ylabel(\"bond reserves\")\n",
    "# ax.set_title(\"Reserves vs. Fixed APR\")\n",
    "# fig.set_size_inches(fig_size)\n"
   ]
  },
  {
   "cell_type": "code",
   "execution_count": null,
   "metadata": {},
   "outputs": [],
   "source": []
  }
 ],
 "metadata": {
  "kernelspec": {
   "display_name": "elf-env",
   "language": "python",
   "name": "python3"
  },
  "language_info": {
   "codemirror_mode": {
    "name": "ipython",
    "version": 3
   },
   "file_extension": ".py",
   "mimetype": "text/x-python",
   "name": "python",
   "nbconvert_exporter": "python",
   "pygments_lexer": "ipython3",
   "version": "3.8.16"
  },
  "orig_nbformat": 4,
  "vscode": {
   "interpreter": {
    "hash": "62b794cc9b18c7f08b23d30e4bd5e3890b0fb2a3ad941abceb39c27c2470f2e0"
   }
  }
 },
 "nbformat": 4,
 "nbformat_minor": 2
}
