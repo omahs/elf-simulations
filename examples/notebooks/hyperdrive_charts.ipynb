{
 "cells": [
  {
   "cell_type": "markdown",
   "metadata": {},
   "source": []
  },
  {
   "attachments": {},
   "cell_type": "markdown",
   "metadata": {},
   "source": [
    "# Goals - Using charts to visualize the accounting system of Hyperdive\n",
    "\n",
    "[] buying PTs\n",
    "\n",
    "[] selling PTs\n",
    "\n",
    "[] opening shorts\n",
    "\n",
    "[] closing shorts\n",
    "\n",
    "[] providing lp\n",
    "\n",
    "[] removing lp\n",
    "\n",
    "[] show that bond/share reserves go up & down\n",
    "\n",
    "[] show that buffers go up & down\n",
    "\n",
    "[] plot PNL for LPer & agents"
   ]
  },
  {
   "attachments": {},
   "cell_type": "markdown",
   "metadata": {},
   "source": [
    "$$\n",
    "k = \\frac{c}{\\mu} \\cdot (\\mu \\cdot (z + \\Delta z))^{1 - \\tau(d_b)} + (y +s - \\Delta y')^{1 - \\tau(d_b)}.\n",
    "$$\n",
    "Solving for $\\Delta y$,\n",
    "$$\n",
    "\\Delta y' = y+s - (k - \\frac{c}{\\mu} \\cdot (\\mu \\cdot (z + \\Delta z))^{1-\\tau(d_b)})^{\\frac{1}{1-\\tau(d_b)}}\n",
    "$$"
   ]
  },
  {
   "cell_type": "code",
   "execution_count": 27,
   "metadata": {},
   "outputs": [],
   "source": [
    "## Market State\n",
    "z = share_reserves = 100_000\n",
    "y = bond_reserves = 100_000\n",
    "c = share_price = 1\n",
    "u = init_share_price = 1\n",
    "phi = fee = 0.01\n",
    "d = 182.5 # days remaining\n",
    "r = pool_apy = 0.05\n",
    "\n",
    "\n",
    "## Trade Details\n",
    "delta_x = 10_000 # same amount regardless of units\n",
    "delta_z = delta_x / c\n",
    "\n",
    "## Calculate Trade \n",
    "# t(d) = days_remaining / 365 \n",
    "t = t_d = d / 365\n",
    "t_stretch = 3.09396 / (0.02789 * (r * 100))\n",
    "tau = t_d / t_stretch\n",
    "\n",
    "## the k constant\n",
    "k = (c / u) * (u * z) ** (1 - tau) + (2 * y + c * z) ** (1 - tau)\n",
    "\n",
    "delta_y = 2*y + c*z - (k - (c / u) * (u * (z + delta_z))**(1 - tau))**(1 / (1 - tau)) \n",
    "\n",
    "## Update Market State\n",
    "share_reserves_after = share_reserves + delta_z\n",
    "bond_reserves_after = bond_reserves - delta_y"
   ]
  },
  {
   "cell_type": "code",
   "execution_count": null,
   "metadata": {},
   "outputs": [],
   "source": []
  },
  {
   "cell_type": "code",
   "execution_count": 34,
   "metadata": {},
   "outputs": [
    {
     "name": "stderr",
     "output_type": "stream",
     "text": [
      "/var/folders/fx/qlfllj2n1kz9z0c7_mn_8d2w0000gn/T/ipykernel_58897/2002749828.py:16: UserWarning: FixedFormatter should only be used together with FixedLocator\n",
      "  axis.set_xticklabels(['Share', 'Bond'])\n"
     ]
    },
    {
     "data": {
      "image/png": "[encoded data removed]",
      "text/plain": [
       "<Figure size 800x800 with 2 Axes>"
      ]
     },
     "metadata": {},
     "output_type": "display_data"
    }
   ],
   "source": [
    "import elfpy.utils.outputs as output_utils  # utilities for file outputs \n",
    "# side by side chart\n",
    "nrows = 1\n",
    "ncols = 2\n",
    "\n",
    "fig, axes, _ = output_utils.get_gridspec_subplots(nrows, ncols, wspace=0.4)\n",
    "reserves = [share_reserves, bond_reserves] \n",
    "reserves_after = [share_reserves_after, bond_reserves_after] \n",
    "axes[0].bar(range(len(reserves)), reserves)\n",
    "axes[1].bar(range(len(reserves_after)), reserves_after)\n",
    "axes[0].set_title(\"Reserves before the trade\")\n",
    "axes[1].set_title(\"Reserves after the trade\")\n",
    "\n",
    "for axis in axes:\n",
    "    axis.set_xlabel(\"Reserves\")\n",
    "    axis.set_xticklabels(['Share', 'Bond'])\n",
    "    axis.set_box_aspect(1)\n",
    "fig_scale = 2\n",
    "fig_size = fig.get_size_inches()  # [width (or cols), height (or rows)]\n",
    "fig.set_size_inches([fig_scale * fig_size[0], fig_scale * fig_size[1]])\n",
    "_ = fig.suptitle(\"AMM Reserves Before and After Trade\", y=0.90)"
   ]
  },
  {
   "cell_type": "code",
   "execution_count": 25,
   "metadata": {},
   "outputs": [],
   "source": [
    "# to a hammer, everything looks like a nail\n",
    "# insert your preferred hammer here"
   ]
  },
  {
   "cell_type": "code",
   "execution_count": 30,
   "metadata": {},
   "outputs": [],
   "source": [
    "import elfpy.utils.outputs as output_utils  # utilities for file outputs\n",
    "\n",
    "\n",
    "# from test_market.py (the best test)\n",
    "def create_simulator(\n",
    "    self,\n",
    "    agent_policies,\n",
    "    config_file=\"config/example_config.toml\",\n",
    "):\n",
    "    \"\"\"Create base structure for future tests\"\"\"\n",
    "    output_utils.setup_logging(log_filename=\".logging/test_trades.log\", log_level=logging.DEBUG)\n",
    "    # load default config\n",
    "    override_dict = {\n",
    "        \"pricing_model_name\": \"Yieldspace\",\n",
    "        \"target_liquidity\": 10e6,\n",
    "        \"fee_percent\": 0.1,\n",
    "        \"target_pool_apr\": 0.05,\n",
    "        \"vault_apr\": {\"type\": \"constant\", \"value\": 0.05},\n",
    "        # minimal simulation steps, we only care to investigate the first day's trades\n",
    "        \"num_trading_days\": 10,\n",
    "        \"num_blocks_per_day\": 3,\n",
    "        \"shuffle_users\": False,  # make it deterministic\n",
    "    }\n",
    "    simulator = test_utils.setup_simulation_entities(\n",
    "        config_file=config_file, override_dict=override_dict, agent_policies=agent_policies\n",
    "    )\n",
    "    return simulator"
   ]
  }
 ],
 "metadata": {
  "kernelspec": {
   "display_name": ".venv",
   "language": "python",
   "name": "python3"
  },
  "language_info": {
   "codemirror_mode": {
    "name": "ipython",
    "version": 3
   },
   "file_extension": ".py",
   "mimetype": "text/x-python",
   "name": "python",
   "nbconvert_exporter": "python",
   "pygments_lexer": "ipython3",
   "version": "3.10.8"
  },
  "orig_nbformat": 4,
  "vscode": {
   "interpreter": {
    "hash": "f1889f877526a16d01c965e98e6699e55d9e03648d26a8811b54f342ab1a3312"
   }
  }
 },
 "nbformat": 4,
 "nbformat_minor": 2
}
